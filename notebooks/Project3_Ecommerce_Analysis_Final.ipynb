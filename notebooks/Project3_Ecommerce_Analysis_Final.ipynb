{
 "cells": [
  {
   "cell_type": "markdown",
   "id": "5d36a98f",
   "metadata": {},
   "source": [
    "\n",
    "# Project 3: E‑Commerce Transactions Analysis (Final)\n",
    "\n",
    "This is the **final, streamlined notebook** for Project 3.  \n",
    "Run top-to-bottom to: **load → clean → KPIs → EDA → export** (CSVs & PNGs).\n",
    "\n",
    "**Expected dataset:** `../data/ecommerce_transactions.csv`  \n",
    "**Outputs saved to:** `../data/` (CSVs) and `../powerbi/` (PNGs)\n"
   ]
  },
  {
   "cell_type": "code",
   "execution_count": 1,
   "id": "d1e1ff23",
   "metadata": {},
   "outputs": [],
   "source": [
    "\n",
    "# === CONFIG ===\n",
    "DATA_PATH = \"../data/ecommerce_transactions.csv\"\n",
    "CLEAN_OUT = \"../data/ecommerce_transactions_clean.csv\"\n",
    "MONTHLY_OUT = \"../data/monthly_revenue_rollup.csv\"\n",
    "CAT_OUT = \"../data/category_revenue_rollup.csv\"\n",
    "REGION_OUT = \"../data/region_revenue_rollup.csv\"\n",
    "PAYMENT_OUT = \"../data/payment_revenue_rollup.csv\"\n",
    "TOPCUSTOMERS_OUT = \"../data/top_customers_rollup.csv\"\n",
    "\n",
    "# column names (update here if your schema changes)\n",
    "DATE_COL  = \"Transaction_Date\"\n",
    "REV_COL   = \"Purchase_Amount\"\n",
    "CUST_COL  = \"User_Name\"\n",
    "PROD_COL  = \"Product_Category\"\n",
    "REG_COL   = \"Country\"\n",
    "ID_COL    = \"Transaction_ID\"\n",
    "PAYMENT_COL = \"Payment_Method\"\n",
    "\n",
    "# === IMPORTS & STYLE ===\n",
    "import pandas as pd, numpy as np\n",
    "import matplotlib.pyplot as plt\n",
    "import seaborn as sns\n",
    "from pathlib import Path\n",
    "\n",
    "sns.set(style=\"whitegrid\")\n",
    "plt.rcParams[\"figure.figsize\"] = (10, 5)\n",
    "pd.set_option(\"display.float_format\", lambda x: f\"{x:,.2f}\")\n",
    "\n",
    "# ensure output folders exist\n",
    "Path(\"../powerbi\").mkdir(parents=True, exist_ok=True)\n"
   ]
  },
  {
   "cell_type": "markdown",
   "id": "867cc020",
   "metadata": {},
   "source": [
    "## 1) Load, Clean, and Feature Engineer"
   ]
  },
  {
   "cell_type": "code",
   "execution_count": 2,
   "id": "d04c30a3",
   "metadata": {},
   "outputs": [
    {
     "name": "stdout",
     "output_type": "stream",
     "text": [
      "Loaded 50,000 rows → 50,000 after de-duplication.\n",
      "Rows with invalid dates: 0\n"
     ]
    },
    {
     "data": {
      "text/html": [
       "<div>\n",
       "<style scoped>\n",
       "    .dataframe tbody tr th:only-of-type {\n",
       "        vertical-align: middle;\n",
       "    }\n",
       "\n",
       "    .dataframe tbody tr th {\n",
       "        vertical-align: top;\n",
       "    }\n",
       "\n",
       "    .dataframe thead th {\n",
       "        text-align: right;\n",
       "    }\n",
       "</style>\n",
       "<table border=\"1\" class=\"dataframe\">\n",
       "  <thead>\n",
       "    <tr style=\"text-align: right;\">\n",
       "      <th></th>\n",
       "      <th>Transaction_ID</th>\n",
       "      <th>User_Name</th>\n",
       "      <th>Age</th>\n",
       "      <th>Country</th>\n",
       "      <th>Product_Category</th>\n",
       "      <th>Purchase_Amount</th>\n",
       "      <th>Payment_Method</th>\n",
       "      <th>Transaction_Date</th>\n",
       "      <th>Order_Year</th>\n",
       "      <th>Order_Month</th>\n",
       "      <th>Order_Date</th>\n",
       "    </tr>\n",
       "  </thead>\n",
       "  <tbody>\n",
       "    <tr>\n",
       "      <th>0</th>\n",
       "      <td>1</td>\n",
       "      <td>Ava Hall</td>\n",
       "      <td>63</td>\n",
       "      <td>Mexico</td>\n",
       "      <td>Clothing</td>\n",
       "      <td>780.69</td>\n",
       "      <td>Debit Card</td>\n",
       "      <td>2023-04-14</td>\n",
       "      <td>2023</td>\n",
       "      <td>2023-04</td>\n",
       "      <td>2023-04-14</td>\n",
       "    </tr>\n",
       "    <tr>\n",
       "      <th>1</th>\n",
       "      <td>2</td>\n",
       "      <td>Sophia Hall</td>\n",
       "      <td>59</td>\n",
       "      <td>India</td>\n",
       "      <td>Beauty</td>\n",
       "      <td>738.56</td>\n",
       "      <td>PayPal</td>\n",
       "      <td>2023-07-30</td>\n",
       "      <td>2023</td>\n",
       "      <td>2023-07</td>\n",
       "      <td>2023-07-30</td>\n",
       "    </tr>\n",
       "    <tr>\n",
       "      <th>2</th>\n",
       "      <td>3</td>\n",
       "      <td>Elijah Thompson</td>\n",
       "      <td>26</td>\n",
       "      <td>France</td>\n",
       "      <td>Books</td>\n",
       "      <td>178.34</td>\n",
       "      <td>Credit Card</td>\n",
       "      <td>2023-09-17</td>\n",
       "      <td>2023</td>\n",
       "      <td>2023-09</td>\n",
       "      <td>2023-09-17</td>\n",
       "    </tr>\n",
       "  </tbody>\n",
       "</table>\n",
       "</div>"
      ],
      "text/plain": [
       "   Transaction_ID        User_Name  Age Country Product_Category  \\\n",
       "0               1         Ava Hall   63  Mexico         Clothing   \n",
       "1               2      Sophia Hall   59   India           Beauty   \n",
       "2               3  Elijah Thompson   26  France            Books   \n",
       "\n",
       "   Purchase_Amount Payment_Method Transaction_Date  Order_Year Order_Month  \\\n",
       "0           780.69     Debit Card       2023-04-14        2023     2023-04   \n",
       "1           738.56         PayPal       2023-07-30        2023     2023-07   \n",
       "2           178.34    Credit Card       2023-09-17        2023     2023-09   \n",
       "\n",
       "   Order_Date  \n",
       "0  2023-04-14  \n",
       "1  2023-07-30  \n",
       "2  2023-09-17  "
      ]
     },
     "metadata": {},
     "output_type": "display_data"
    }
   ],
   "source": [
    "\n",
    "# Load\n",
    "df = pd.read_csv(DATA_PATH)\n",
    "\n",
    "# Basic clean / dtypes\n",
    "df[DATE_COL] = pd.to_datetime(df[DATE_COL], errors=\"coerce\")\n",
    "df[REV_COL]  = pd.to_numeric(df[REV_COL], errors=\"coerce\")\n",
    "\n",
    "# Derived time columns\n",
    "df[\"Order_Year\"]  = df[DATE_COL].dt.year\n",
    "df[\"Order_Month\"] = df[DATE_COL].dt.to_period(\"M\").astype(str)\n",
    "df[\"Order_Date\"]  = df[DATE_COL].dt.date\n",
    "\n",
    "# Hygiene\n",
    "before = len(df)\n",
    "df = df.drop_duplicates()\n",
    "invalid_dates = df[DATE_COL].isna().sum()\n",
    "\n",
    "print(f\"Loaded {before:,} rows → {len(df):,} after de-duplication.\")\n",
    "print(\"Rows with invalid dates:\", invalid_dates)\n",
    "display(df.head(3))\n"
   ]
  },
  {
   "cell_type": "markdown",
   "id": "10e4c93d",
   "metadata": {},
   "source": [
    "## 2) KPI Snapshot"
   ]
  },
  {
   "cell_type": "code",
   "execution_count": 3,
   "id": "ac0d3481",
   "metadata": {},
   "outputs": [
    {
     "data": {
      "text/html": [
       "<div>\n",
       "<style scoped>\n",
       "    .dataframe tbody tr th:only-of-type {\n",
       "        vertical-align: middle;\n",
       "    }\n",
       "\n",
       "    .dataframe tbody tr th {\n",
       "        vertical-align: top;\n",
       "    }\n",
       "\n",
       "    .dataframe thead th {\n",
       "        text-align: right;\n",
       "    }\n",
       "</style>\n",
       "<table border=\"1\" class=\"dataframe\">\n",
       "  <thead>\n",
       "    <tr style=\"text-align: right;\">\n",
       "      <th></th>\n",
       "      <th>Value</th>\n",
       "    </tr>\n",
       "  </thead>\n",
       "  <tbody>\n",
       "    <tr>\n",
       "      <th>Total Revenue</th>\n",
       "      <td>25,157,989.65</td>\n",
       "    </tr>\n",
       "    <tr>\n",
       "      <th>Transactions</th>\n",
       "      <td>50,000.00</td>\n",
       "    </tr>\n",
       "    <tr>\n",
       "      <th>Unique Customers</th>\n",
       "      <td>100.00</td>\n",
       "    </tr>\n",
       "    <tr>\n",
       "      <th>Avg Order Value (AOV)</th>\n",
       "      <td>503.16</td>\n",
       "    </tr>\n",
       "  </tbody>\n",
       "</table>\n",
       "</div>"
      ],
      "text/plain": [
       "                              Value\n",
       "Total Revenue         25,157,989.65\n",
       "Transactions              50,000.00\n",
       "Unique Customers             100.00\n",
       "Avg Order Value (AOV)        503.16"
      ]
     },
     "execution_count": 3,
     "metadata": {},
     "output_type": "execute_result"
    }
   ],
   "source": [
    "\n",
    "kpis = pd.DataFrame({\n",
    "    \"Total Revenue\": [df[REV_COL].sum()],\n",
    "    \"Transactions\": [df[ID_COL].nunique()],\n",
    "    \"Unique Customers\": [df[CUST_COL].nunique()],\n",
    "    \"Avg Order Value (AOV)\": [df[REV_COL].mean()]\n",
    "}).T.rename(columns={0: \"Value\"})\n",
    "kpis\n"
   ]
  },
  {
   "cell_type": "code",
   "execution_count": 4,
   "id": "06b4319a",
   "metadata": {},
   "outputs": [],
   "source": [
    "\n",
    "def titleify(ax, title):\n",
    "    ax.set_title(title)\n",
    "    ax.set_xlabel(\"\")\n",
    "    plt.tight_layout()\n",
    "\n",
    "def save_fig(path):\n",
    "    plt.savefig(path, dpi=180, bbox_inches=\"tight\")\n",
    "    print(\"Saved chart →\", path)\n"
   ]
  },
  {
   "cell_type": "markdown",
   "id": "c9fe1467",
   "metadata": {},
   "source": [
    "## 3) EDA"
   ]
  },
  {
   "cell_type": "markdown",
   "id": "82eeadba",
   "metadata": {},
   "source": [
    "### 3.1 Monthly Revenue Trend"
   ]
  },
  {
   "cell_type": "code",
   "execution_count": 5,
   "id": "64790813",
   "metadata": {},
   "outputs": [
    {
     "data": {
      "text/html": [
       "<div>\n",
       "<style scoped>\n",
       "    .dataframe tbody tr th:only-of-type {\n",
       "        vertical-align: middle;\n",
       "    }\n",
       "\n",
       "    .dataframe tbody tr th {\n",
       "        vertical-align: top;\n",
       "    }\n",
       "\n",
       "    .dataframe thead th {\n",
       "        text-align: right;\n",
       "    }\n",
       "</style>\n",
       "<table border=\"1\" class=\"dataframe\">\n",
       "  <thead>\n",
       "    <tr style=\"text-align: right;\">\n",
       "      <th></th>\n",
       "      <th>Order_Month</th>\n",
       "      <th>Total_Revenue</th>\n",
       "      <th>Transactions</th>\n",
       "      <th>Unique_Customers</th>\n",
       "      <th>Month_dt</th>\n",
       "      <th>Revenue_MoM_%</th>\n",
       "    </tr>\n",
       "  </thead>\n",
       "  <tbody>\n",
       "    <tr>\n",
       "      <th>0</th>\n",
       "      <td>2023-03</td>\n",
       "      <td>802,390.44</td>\n",
       "      <td>1560</td>\n",
       "      <td>100</td>\n",
       "      <td>2023-03-01</td>\n",
       "      <td>NaN</td>\n",
       "    </tr>\n",
       "    <tr>\n",
       "      <th>1</th>\n",
       "      <td>2023-04</td>\n",
       "      <td>1,046,921.48</td>\n",
       "      <td>2049</td>\n",
       "      <td>100</td>\n",
       "      <td>2023-04-01</td>\n",
       "      <td>30.48</td>\n",
       "    </tr>\n",
       "    <tr>\n",
       "      <th>2</th>\n",
       "      <td>2023-05</td>\n",
       "      <td>1,050,553.40</td>\n",
       "      <td>2092</td>\n",
       "      <td>100</td>\n",
       "      <td>2023-05-01</td>\n",
       "      <td>0.35</td>\n",
       "    </tr>\n",
       "    <tr>\n",
       "      <th>3</th>\n",
       "      <td>2023-06</td>\n",
       "      <td>1,011,635.06</td>\n",
       "      <td>2029</td>\n",
       "      <td>100</td>\n",
       "      <td>2023-06-01</td>\n",
       "      <td>-3.70</td>\n",
       "    </tr>\n",
       "    <tr>\n",
       "      <th>4</th>\n",
       "      <td>2023-07</td>\n",
       "      <td>1,105,402.88</td>\n",
       "      <td>2154</td>\n",
       "      <td>100</td>\n",
       "      <td>2023-07-01</td>\n",
       "      <td>9.27</td>\n",
       "    </tr>\n",
       "  </tbody>\n",
       "</table>\n",
       "</div>"
      ],
      "text/plain": [
       "  Order_Month  Total_Revenue  Transactions  Unique_Customers   Month_dt  \\\n",
       "0     2023-03     802,390.44          1560               100 2023-03-01   \n",
       "1     2023-04   1,046,921.48          2049               100 2023-04-01   \n",
       "2     2023-05   1,050,553.40          2092               100 2023-05-01   \n",
       "3     2023-06   1,011,635.06          2029               100 2023-06-01   \n",
       "4     2023-07   1,105,402.88          2154               100 2023-07-01   \n",
       "\n",
       "   Revenue_MoM_%  \n",
       "0            NaN  \n",
       "1          30.48  \n",
       "2           0.35  \n",
       "3          -3.70  \n",
       "4           9.27  "
      ]
     },
     "metadata": {},
     "output_type": "display_data"
    },
    {
     "name": "stdout",
     "output_type": "stream",
     "text": [
      "Saved table → ../data/monthly_revenue_rollup.csv\n",
      "Saved chart → ../powerbi/monthly_revenue_trend.png\n"
     ]
    },
    {
     "data": {
      "image/png": "[encoded data removed]",
      "text/plain": [
       "<Figure size 1000x500 with 1 Axes>"
      ]
     },
     "metadata": {},
     "output_type": "display_data"
    }
   ],
   "source": [
    "\n",
    "monthly = (df.groupby(\"Order_Month\", as_index=False)\n",
    "             .agg(Total_Revenue=(REV_COL,\"sum\"),\n",
    "                  Transactions=(ID_COL,\"count\"),\n",
    "                  Unique_Customers=(CUST_COL,\"nunique\")))\n",
    "monthly[\"Month_dt\"] = pd.to_datetime(monthly[\"Order_Month\"] + \"-01\")\n",
    "monthly = monthly.sort_values(\"Month_dt\")\n",
    "monthly[\"Revenue_MoM_%\"] = monthly[\"Total_Revenue\"].pct_change() * 100\n",
    "display(monthly.head())\n",
    "\n",
    "monthly.to_csv(MONTHLY_OUT, index=False)\n",
    "print(\"Saved table →\", MONTHLY_OUT)\n",
    "\n",
    "fig, ax = plt.subplots()\n",
    "ax.plot(monthly[\"Month_dt\"], monthly[\"Total_Revenue\"], marker=\"o\")\n",
    "ax.tick_params(axis=\"x\", rotation=45)\n",
    "titleify(ax, \"Monthly Revenue Trend\")\n",
    "save_fig(\"../powerbi/monthly_revenue_trend.png\")\n",
    "plt.show()\n"
   ]
  },
  {
   "cell_type": "markdown",
   "id": "b4f4c324",
   "metadata": {},
   "source": [
    "### 3.2 Top Product Categories"
   ]
  },
  {
   "cell_type": "code",
   "execution_count": 6,
   "id": "03594173",
   "metadata": {},
   "outputs": [
    {
     "data": {
      "text/html": [
       "<div>\n",
       "<style scoped>\n",
       "    .dataframe tbody tr th:only-of-type {\n",
       "        vertical-align: middle;\n",
       "    }\n",
       "\n",
       "    .dataframe tbody tr th {\n",
       "        vertical-align: top;\n",
       "    }\n",
       "\n",
       "    .dataframe thead th {\n",
       "        text-align: right;\n",
       "    }\n",
       "</style>\n",
       "<table border=\"1\" class=\"dataframe\">\n",
       "  <thead>\n",
       "    <tr style=\"text-align: right;\">\n",
       "      <th></th>\n",
       "      <th>Product_Category</th>\n",
       "      <th>Total_Revenue</th>\n",
       "      <th>Transactions</th>\n",
       "      <th>Unique_Customers</th>\n",
       "    </tr>\n",
       "  </thead>\n",
       "  <tbody>\n",
       "    <tr>\n",
       "      <th>6</th>\n",
       "      <td>Sports</td>\n",
       "      <td>3,195,335.90</td>\n",
       "      <td>6312</td>\n",
       "      <td>100</td>\n",
       "    </tr>\n",
       "    <tr>\n",
       "      <th>7</th>\n",
       "      <td>Toys</td>\n",
       "      <td>3,185,652.36</td>\n",
       "      <td>6392</td>\n",
       "      <td>100</td>\n",
       "    </tr>\n",
       "    <tr>\n",
       "      <th>1</th>\n",
       "      <td>Books</td>\n",
       "      <td>3,181,897.30</td>\n",
       "      <td>6253</td>\n",
       "      <td>100</td>\n",
       "    </tr>\n",
       "    <tr>\n",
       "      <th>2</th>\n",
       "      <td>Clothing</td>\n",
       "      <td>3,171,225.96</td>\n",
       "      <td>6224</td>\n",
       "      <td>100</td>\n",
       "    </tr>\n",
       "    <tr>\n",
       "      <th>3</th>\n",
       "      <td>Electronics</td>\n",
       "      <td>3,133,965.04</td>\n",
       "      <td>6320</td>\n",
       "      <td>100</td>\n",
       "    </tr>\n",
       "    <tr>\n",
       "      <th>4</th>\n",
       "      <td>Grocery</td>\n",
       "      <td>3,123,579.52</td>\n",
       "      <td>6215</td>\n",
       "      <td>100</td>\n",
       "    </tr>\n",
       "    <tr>\n",
       "      <th>5</th>\n",
       "      <td>Home &amp; Kitchen</td>\n",
       "      <td>3,108,945.78</td>\n",
       "      <td>6209</td>\n",
       "      <td>100</td>\n",
       "    </tr>\n",
       "    <tr>\n",
       "      <th>0</th>\n",
       "      <td>Beauty</td>\n",
       "      <td>3,057,387.79</td>\n",
       "      <td>6075</td>\n",
       "      <td>100</td>\n",
       "    </tr>\n",
       "  </tbody>\n",
       "</table>\n",
       "</div>"
      ],
      "text/plain": [
       "  Product_Category  Total_Revenue  Transactions  Unique_Customers\n",
       "6           Sports   3,195,335.90          6312               100\n",
       "7             Toys   3,185,652.36          6392               100\n",
       "1            Books   3,181,897.30          6253               100\n",
       "2         Clothing   3,171,225.96          6224               100\n",
       "3      Electronics   3,133,965.04          6320               100\n",
       "4          Grocery   3,123,579.52          6215               100\n",
       "5   Home & Kitchen   3,108,945.78          6209               100\n",
       "0           Beauty   3,057,387.79          6075               100"
      ]
     },
     "metadata": {},
     "output_type": "display_data"
    },
    {
     "name": "stdout",
     "output_type": "stream",
     "text": [
      "Saved table → ../data/category_revenue_rollup.csv\n",
      "Saved chart → ../powerbi/top_categories.png\n"
     ]
    },
    {
     "data": {
      "image/png": "[encoded data removed]",
      "text/plain": [
       "<Figure size 1000x500 with 1 Axes>"
      ]
     },
     "metadata": {},
     "output_type": "display_data"
    }
   ],
   "source": [
    "\n",
    "by_cat = (df.groupby(PROD_COL, as_index=False)\n",
    "            .agg(Total_Revenue=(REV_COL,\"sum\"),\n",
    "                 Transactions=(ID_COL,\"count\"),\n",
    "                 Unique_Customers=(CUST_COL,\"nunique\"))\n",
    "            .sort_values(\"Total_Revenue\", ascending=False))\n",
    "display(by_cat.head(10))\n",
    "\n",
    "by_cat.to_csv(CAT_OUT, index=False)\n",
    "print(\"Saved table →\", CAT_OUT)\n",
    "\n",
    "top10 = by_cat.head(10).iloc[::-1]\n",
    "fig, ax = plt.subplots()\n",
    "ax.barh(top10[PROD_COL], top10[\"Total_Revenue\"])\n",
    "titleify(ax, \"Top 10 Categories by Revenue\")\n",
    "save_fig(\"../powerbi/top_categories.png\")\n",
    "plt.show()\n"
   ]
  },
  {
   "cell_type": "markdown",
   "id": "2f97dce9",
   "metadata": {},
   "source": [
    "### 3.3 Revenue by Country"
   ]
  },
  {
   "cell_type": "code",
   "execution_count": 7,
   "id": "2f48192c",
   "metadata": {},
   "outputs": [
    {
     "data": {
      "text/html": [
       "<div>\n",
       "<style scoped>\n",
       "    .dataframe tbody tr th:only-of-type {\n",
       "        vertical-align: middle;\n",
       "    }\n",
       "\n",
       "    .dataframe tbody tr th {\n",
       "        vertical-align: top;\n",
       "    }\n",
       "\n",
       "    .dataframe thead th {\n",
       "        text-align: right;\n",
       "    }\n",
       "</style>\n",
       "<table border=\"1\" class=\"dataframe\">\n",
       "  <thead>\n",
       "    <tr style=\"text-align: right;\">\n",
       "      <th></th>\n",
       "      <th>Country</th>\n",
       "      <th>Total_Revenue</th>\n",
       "      <th>Transactions</th>\n",
       "      <th>Unique_Customers</th>\n",
       "    </tr>\n",
       "  </thead>\n",
       "  <tbody>\n",
       "    <tr>\n",
       "      <th>3</th>\n",
       "      <td>France</td>\n",
       "      <td>2,545,739.19</td>\n",
       "      <td>4993</td>\n",
       "      <td>100</td>\n",
       "    </tr>\n",
       "    <tr>\n",
       "      <th>2</th>\n",
       "      <td>Canada</td>\n",
       "      <td>2,544,335.12</td>\n",
       "      <td>5082</td>\n",
       "      <td>100</td>\n",
       "    </tr>\n",
       "    <tr>\n",
       "      <th>9</th>\n",
       "      <td>USA</td>\n",
       "      <td>2,541,220.22</td>\n",
       "      <td>4979</td>\n",
       "      <td>100</td>\n",
       "    </tr>\n",
       "    <tr>\n",
       "      <th>7</th>\n",
       "      <td>Mexico</td>\n",
       "      <td>2,534,475.67</td>\n",
       "      <td>5059</td>\n",
       "      <td>100</td>\n",
       "    </tr>\n",
       "    <tr>\n",
       "      <th>0</th>\n",
       "      <td>Australia</td>\n",
       "      <td>2,514,911.65</td>\n",
       "      <td>4985</td>\n",
       "      <td>100</td>\n",
       "    </tr>\n",
       "    <tr>\n",
       "      <th>1</th>\n",
       "      <td>Brazil</td>\n",
       "      <td>2,507,287.54</td>\n",
       "      <td>4948</td>\n",
       "      <td>100</td>\n",
       "    </tr>\n",
       "    <tr>\n",
       "      <th>5</th>\n",
       "      <td>India</td>\n",
       "      <td>2,503,542.71</td>\n",
       "      <td>4996</td>\n",
       "      <td>100</td>\n",
       "    </tr>\n",
       "    <tr>\n",
       "      <th>4</th>\n",
       "      <td>Germany</td>\n",
       "      <td>2,502,442.20</td>\n",
       "      <td>5047</td>\n",
       "      <td>100</td>\n",
       "    </tr>\n",
       "    <tr>\n",
       "      <th>6</th>\n",
       "      <td>Japan</td>\n",
       "      <td>2,492,312.20</td>\n",
       "      <td>4960</td>\n",
       "      <td>100</td>\n",
       "    </tr>\n",
       "    <tr>\n",
       "      <th>8</th>\n",
       "      <td>UK</td>\n",
       "      <td>2,471,723.15</td>\n",
       "      <td>4951</td>\n",
       "      <td>100</td>\n",
       "    </tr>\n",
       "  </tbody>\n",
       "</table>\n",
       "</div>"
      ],
      "text/plain": [
       "     Country  Total_Revenue  Transactions  Unique_Customers\n",
       "3     France   2,545,739.19          4993               100\n",
       "2     Canada   2,544,335.12          5082               100\n",
       "9        USA   2,541,220.22          4979               100\n",
       "7     Mexico   2,534,475.67          5059               100\n",
       "0  Australia   2,514,911.65          4985               100\n",
       "1     Brazil   2,507,287.54          4948               100\n",
       "5      India   2,503,542.71          4996               100\n",
       "4    Germany   2,502,442.20          5047               100\n",
       "6      Japan   2,492,312.20          4960               100\n",
       "8         UK   2,471,723.15          4951               100"
      ]
     },
     "metadata": {},
     "output_type": "display_data"
    },
    {
     "name": "stdout",
     "output_type": "stream",
     "text": [
      "Saved table → ../data/region_revenue_rollup.csv\n",
      "Saved chart → ../powerbi/top_countries.png\n"
     ]
    },
    {
     "data": {
      "image/png": "[encoded data removed]",
      "text/plain": [
       "<Figure size 1000x500 with 1 Axes>"
      ]
     },
     "metadata": {},
     "output_type": "display_data"
    }
   ],
   "source": [
    "\n",
    "by_region = (df.groupby(REG_COL, as_index=False)\n",
    "               .agg(Total_Revenue=(REV_COL,\"sum\"),\n",
    "                    Transactions=(ID_COL,\"count\"),\n",
    "                    Unique_Customers=(CUST_COL,\"nunique\"))\n",
    "               .sort_values(\"Total_Revenue\", ascending=False))\n",
    "display(by_region.head(10))\n",
    "\n",
    "by_region.to_csv(REGION_OUT, index=False)\n",
    "print(\"Saved table →\", REGION_OUT)\n",
    "\n",
    "top10r = by_region.head(10).iloc[::-1]\n",
    "fig, ax = plt.subplots()\n",
    "ax.barh(top10r[REG_COL], top10r[\"Total_Revenue\"])\n",
    "titleify(ax, \"Top 10 Countries by Revenue\")\n",
    "save_fig(\"../powerbi/top_countries.png\")\n",
    "plt.show()\n"
   ]
  },
  {
   "cell_type": "markdown",
   "id": "af504329",
   "metadata": {},
   "source": [
    "### 3.4 Top Customers by Spend"
   ]
  },
  {
   "cell_type": "code",
   "execution_count": 8,
   "id": "598d3460",
   "metadata": {},
   "outputs": [
    {
     "data": {
      "text/html": [
       "<div>\n",
       "<style scoped>\n",
       "    .dataframe tbody tr th:only-of-type {\n",
       "        vertical-align: middle;\n",
       "    }\n",
       "\n",
       "    .dataframe tbody tr th {\n",
       "        vertical-align: top;\n",
       "    }\n",
       "\n",
       "    .dataframe thead th {\n",
       "        text-align: right;\n",
       "    }\n",
       "</style>\n",
       "<table border=\"1\" class=\"dataframe\">\n",
       "  <thead>\n",
       "    <tr style=\"text-align: right;\">\n",
       "      <th></th>\n",
       "      <th>User_Name</th>\n",
       "      <th>Total_Spent</th>\n",
       "      <th>Transactions</th>\n",
       "    </tr>\n",
       "  </thead>\n",
       "  <tbody>\n",
       "    <tr>\n",
       "      <th>94</th>\n",
       "      <td>Sophia Harris</td>\n",
       "      <td>296,354.98</td>\n",
       "      <td>568</td>\n",
       "    </tr>\n",
       "    <tr>\n",
       "      <th>40</th>\n",
       "      <td>James Allen</td>\n",
       "      <td>278,079.15</td>\n",
       "      <td>545</td>\n",
       "    </tr>\n",
       "    <tr>\n",
       "      <th>83</th>\n",
       "      <td>Olivia Hall</td>\n",
       "      <td>277,302.09</td>\n",
       "      <td>534</td>\n",
       "    </tr>\n",
       "    <tr>\n",
       "      <th>33</th>\n",
       "      <td>Isabella Hall</td>\n",
       "      <td>275,798.04</td>\n",
       "      <td>539</td>\n",
       "    </tr>\n",
       "    <tr>\n",
       "      <th>61</th>\n",
       "      <td>Noah Anderson</td>\n",
       "      <td>274,347.15</td>\n",
       "      <td>545</td>\n",
       "    </tr>\n",
       "    <tr>\n",
       "      <th>22</th>\n",
       "      <td>Emma Clark</td>\n",
       "      <td>274,313.60</td>\n",
       "      <td>546</td>\n",
       "    </tr>\n",
       "    <tr>\n",
       "      <th>2</th>\n",
       "      <td>Ava Clark</td>\n",
       "      <td>273,776.79</td>\n",
       "      <td>517</td>\n",
       "    </tr>\n",
       "    <tr>\n",
       "      <th>13</th>\n",
       "      <td>Elijah Hall</td>\n",
       "      <td>271,861.61</td>\n",
       "      <td>543</td>\n",
       "    </tr>\n",
       "    <tr>\n",
       "      <th>45</th>\n",
       "      <td>James Lewis</td>\n",
       "      <td>271,007.68</td>\n",
       "      <td>543</td>\n",
       "    </tr>\n",
       "    <tr>\n",
       "      <th>3</th>\n",
       "      <td>Ava Hall</td>\n",
       "      <td>268,756.73</td>\n",
       "      <td>517</td>\n",
       "    </tr>\n",
       "  </tbody>\n",
       "</table>\n",
       "</div>"
      ],
      "text/plain": [
       "        User_Name  Total_Spent  Transactions\n",
       "94  Sophia Harris   296,354.98           568\n",
       "40    James Allen   278,079.15           545\n",
       "83    Olivia Hall   277,302.09           534\n",
       "33  Isabella Hall   275,798.04           539\n",
       "61  Noah Anderson   274,347.15           545\n",
       "22     Emma Clark   274,313.60           546\n",
       "2       Ava Clark   273,776.79           517\n",
       "13    Elijah Hall   271,861.61           543\n",
       "45    James Lewis   271,007.68           543\n",
       "3        Ava Hall   268,756.73           517"
      ]
     },
     "metadata": {},
     "output_type": "display_data"
    },
    {
     "name": "stdout",
     "output_type": "stream",
     "text": [
      "Saved table → ../data/top_customers_rollup.csv\n",
      "Saved chart → ../powerbi/top_customers.png\n"
     ]
    },
    {
     "data": {
      "image/png": "[encoded data removed]",
      "text/plain": [
       "<Figure size 1000x500 with 1 Axes>"
      ]
     },
     "metadata": {},
     "output_type": "display_data"
    }
   ],
   "source": [
    "\n",
    "by_cust = (df.groupby(CUST_COL, as_index=False)\n",
    "             .agg(Total_Spent=(REV_COL,\"sum\"),\n",
    "                  Transactions=(ID_COL,\"count\"))\n",
    "             .sort_values(\"Total_Spent\", ascending=False))\n",
    "display(by_cust.head(10))\n",
    "\n",
    "by_cust.to_csv(TOPCUSTOMERS_OUT, index=False)\n",
    "print(\"Saved table →\", TOPCUSTOMERS_OUT)\n",
    "\n",
    "top10c = by_cust.head(10).iloc[::-1]\n",
    "fig, ax = plt.subplots()\n",
    "ax.barh(top10c[CUST_COL], top10c[\"Total_Spent\"])\n",
    "titleify(ax, \"Top 10 Customers by Total Spending\")\n",
    "save_fig(\"../powerbi/top_customers.png\")\n",
    "plt.show()\n"
   ]
  },
  {
   "cell_type": "markdown",
   "id": "a08ddc05",
   "metadata": {},
   "source": [
    "### 3.5 Repeat vs One‑Time Customers"
   ]
  },
  {
   "cell_type": "code",
   "execution_count": 9,
   "id": "a42fe031",
   "metadata": {},
   "outputs": [
    {
     "data": {
      "text/html": [
       "<div>\n",
       "<style scoped>\n",
       "    .dataframe tbody tr th:only-of-type {\n",
       "        vertical-align: middle;\n",
       "    }\n",
       "\n",
       "    .dataframe tbody tr th {\n",
       "        vertical-align: top;\n",
       "    }\n",
       "\n",
       "    .dataframe thead th {\n",
       "        text-align: right;\n",
       "    }\n",
       "</style>\n",
       "<table border=\"1\" class=\"dataframe\">\n",
       "  <thead>\n",
       "    <tr style=\"text-align: right;\">\n",
       "      <th></th>\n",
       "      <th>Customer_Type</th>\n",
       "      <th>Percentage</th>\n",
       "    </tr>\n",
       "  </thead>\n",
       "  <tbody>\n",
       "    <tr>\n",
       "      <th>0</th>\n",
       "      <td>Repeat</td>\n",
       "      <td>100.00</td>\n",
       "    </tr>\n",
       "  </tbody>\n",
       "</table>\n",
       "</div>"
      ],
      "text/plain": [
       "  Customer_Type  Percentage\n",
       "0        Repeat      100.00"
      ]
     },
     "metadata": {},
     "output_type": "display_data"
    },
    {
     "name": "stdout",
     "output_type": "stream",
     "text": [
      "Saved chart → ../powerbi/repeat_vs_onetime.png\n"
     ]
    },
    {
     "data": {
      "image/png": "[encoded data removed]",
      "text/plain": [
       "<Figure size 1000x500 with 1 Axes>"
      ]
     },
     "metadata": {},
     "output_type": "display_data"
    }
   ],
   "source": [
    "\n",
    "cust_counts = df.groupby(CUST_COL, as_index=False)[ID_COL].count().rename(columns={ID_COL:\"Orders\"})\n",
    "repeat_rate = (cust_counts.assign(Customer_Type=np.where(cust_counts[\"Orders\"]>1, \"Repeat\", \"One-Time\"))\n",
    "                           [\"Customer_Type\"].value_counts(normalize=True)\n",
    "                           .mul(100).rename_axis(\"Customer_Type\").reset_index(name=\"Percentage\"))\n",
    "display(repeat_rate)\n",
    "\n",
    "fig, ax = plt.subplots()\n",
    "ax.bar(repeat_rate[\"Customer_Type\"], repeat_rate[\"Percentage\"])\n",
    "titleify(ax, \"Repeat vs One-Time Customers (%)\")\n",
    "save_fig(\"../powerbi/repeat_vs_onetime.png\")\n",
    "plt.show()\n"
   ]
  },
  {
   "cell_type": "markdown",
   "id": "afd562b3",
   "metadata": {},
   "source": [
    "### 3.6 Revenue by Payment Method"
   ]
  },
  {
   "cell_type": "code",
   "execution_count": 10,
   "id": "a634bf0a",
   "metadata": {},
   "outputs": [
    {
     "data": {
      "text/html": [
       "<div>\n",
       "<style scoped>\n",
       "    .dataframe tbody tr th:only-of-type {\n",
       "        vertical-align: middle;\n",
       "    }\n",
       "\n",
       "    .dataframe tbody tr th {\n",
       "        vertical-align: top;\n",
       "    }\n",
       "\n",
       "    .dataframe thead th {\n",
       "        text-align: right;\n",
       "    }\n",
       "</style>\n",
       "<table border=\"1\" class=\"dataframe\">\n",
       "  <thead>\n",
       "    <tr style=\"text-align: right;\">\n",
       "      <th></th>\n",
       "      <th>Payment_Method</th>\n",
       "      <th>Total_Revenue</th>\n",
       "      <th>Transactions</th>\n",
       "    </tr>\n",
       "  </thead>\n",
       "  <tbody>\n",
       "    <tr>\n",
       "      <th>0</th>\n",
       "      <td>Cash on Delivery</td>\n",
       "      <td>4,276,269.38</td>\n",
       "      <td>8434</td>\n",
       "    </tr>\n",
       "    <tr>\n",
       "      <th>5</th>\n",
       "      <td>UPI</td>\n",
       "      <td>4,259,355.65</td>\n",
       "      <td>8477</td>\n",
       "    </tr>\n",
       "    <tr>\n",
       "      <th>2</th>\n",
       "      <td>Debit Card</td>\n",
       "      <td>4,234,776.21</td>\n",
       "      <td>8355</td>\n",
       "    </tr>\n",
       "    <tr>\n",
       "      <th>4</th>\n",
       "      <td>PayPal</td>\n",
       "      <td>4,173,529.85</td>\n",
       "      <td>8250</td>\n",
       "    </tr>\n",
       "    <tr>\n",
       "      <th>1</th>\n",
       "      <td>Credit Card</td>\n",
       "      <td>4,150,547.15</td>\n",
       "      <td>8310</td>\n",
       "    </tr>\n",
       "    <tr>\n",
       "      <th>3</th>\n",
       "      <td>Net Banking</td>\n",
       "      <td>4,063,511.41</td>\n",
       "      <td>8174</td>\n",
       "    </tr>\n",
       "  </tbody>\n",
       "</table>\n",
       "</div>"
      ],
      "text/plain": [
       "     Payment_Method  Total_Revenue  Transactions\n",
       "0  Cash on Delivery   4,276,269.38          8434\n",
       "5               UPI   4,259,355.65          8477\n",
       "2        Debit Card   4,234,776.21          8355\n",
       "4            PayPal   4,173,529.85          8250\n",
       "1       Credit Card   4,150,547.15          8310\n",
       "3       Net Banking   4,063,511.41          8174"
      ]
     },
     "metadata": {},
     "output_type": "display_data"
    },
    {
     "name": "stdout",
     "output_type": "stream",
     "text": [
      "Saved table → ../data/payment_revenue_rollup.csv\n",
      "Saved chart → ../powerbi/revenue_by_payment.png\n"
     ]
    },
    {
     "data": {
      "image/png": "[encoded data removed]",
      "text/plain": [
       "<Figure size 1000x500 with 1 Axes>"
      ]
     },
     "metadata": {},
     "output_type": "display_data"
    }
   ],
   "source": [
    "\n",
    "by_payment = (df.groupby(PAYMENT_COL, as_index=False)\n",
    "                .agg(Total_Revenue=(REV_COL,\"sum\"),\n",
    "                     Transactions=(ID_COL,\"count\"))\n",
    "                .sort_values(\"Total_Revenue\", ascending=False))\n",
    "display(by_payment)\n",
    "\n",
    "by_payment.to_csv(PAYMENT_OUT, index=False)\n",
    "print(\"Saved table →\", PAYMENT_OUT)\n",
    "\n",
    "fig, ax = plt.subplots()\n",
    "ax.bar(by_payment[PAYMENT_COL], by_payment[\"Total_Revenue\"])\n",
    "ax.tick_params(axis=\"x\", rotation=30)\n",
    "titleify(ax, \"Revenue by Payment Method\")\n",
    "save_fig(\"../powerbi/revenue_by_payment.png\")\n",
    "plt.show()\n"
   ]
  },
  {
   "cell_type": "markdown",
   "id": "55e279f2",
   "metadata": {},
   "source": [
    "## 4) Save Cleaned Dataset"
   ]
  },
  {
   "cell_type": "code",
   "execution_count": 11,
   "id": "09d46396",
   "metadata": {},
   "outputs": [
    {
     "name": "stdout",
     "output_type": "stream",
     "text": [
      "Saved clean dataset → ../data/ecommerce_transactions_clean.csv\n"
     ]
    }
   ],
   "source": [
    "\n",
    "df.to_csv(CLEAN_OUT, index=False)\n",
    "print(\"Saved clean dataset →\", CLEAN_OUT)\n"
   ]
  },
  {
   "cell_type": "markdown",
   "id": "14c4efcb",
   "metadata": {},
   "source": [
    "## 5. Insights & Storytelling\n",
    "\n",
    "### Key Insights\n",
    "\n",
    "- **Monthly Revenue Trend**  \n",
    "  Revenue shows steady performance with some seasonal variation. Minor dips suggest natural cycles, while overall stability indicates consistent demand.\n",
    "\n",
    "- **Revenue by Payment Method**  \n",
    "  Revenue is fairly evenly distributed across payment methods, though **Cash on Delivery (COD)** and **UPI** slightly lead. This may reflect regional trust or convenience factors.\n",
    "\n",
    "- **Top Categories by Revenue**  \n",
    "  **Sports, Toys, and Books** drive the most revenue, signaling strong demand in leisure and lifestyle-related products. Other categories like Beauty and Electronics remain competitive.\n",
    "\n",
    "- **Top Countries by Revenue**  \n",
    "  **France, Canada, and USA** lead in total revenue, followed closely by Mexico and Australia. This indicates a diverse customer base across multiple regions.\n",
    "\n",
    "- **Top Customers by Spending**  \n",
    "  A small number of customers (e.g., Sophia Harris, James Allen) contribute disproportionately to revenue. This highlights the importance of high-value customers.\n",
    "\n",
    "- **Repeat vs One-Time Customers**  \n",
    "  The dataset shows an unusually high proportion of **repeat customers**, which could either reflect very strong loyalty or a dataset bias (worth flagging for deeper validation).\n",
    "\n",
    "---\n",
    "\n",
    "### Recommendations\n",
    "\n",
    "1. **Strengthen Loyalty Programs**  \n",
    "   Leverage the high repeat customer base with rewards or referral incentives to maximize lifetime value.\n",
    "\n",
    "2. **Focus Marketing on Winning Categories**  \n",
    "   Prioritize campaigns around **Sports, Toys, and Books**, as they are already top revenue drivers.\n",
    "\n",
    "3. **Regional Strategy**  \n",
    "   Double down on top-performing countries (France, Canada, USA) while investigating potential growth opportunities in mid-tier markets.\n",
    "\n",
    "4. **Payment Method Optimization**  \n",
    "   Investigate why COD is slightly ahead — trust factor? delivery issues? Offering small discounts for digital payments may boost adoption.\n",
    "\n",
    "---\n",
    "\n"
   ]
  }
 ],
 "metadata": {
  "kernelspec": {
   "display_name": "Python 3",
   "language": "python",
   "name": "python3"
  },
  "language_info": {
   "codemirror_mode": {
    "name": "ipython",
    "version": 3
   },
   "file_extension": ".py",
   "mimetype": "text/x-python",
   "name": "python",
   "nbconvert_exporter": "python",
   "pygments_lexer": "ipython3",
   "version": "3.10.5"
  }
 },
 "nbformat": 4,
 "nbformat_minor": 5
}
